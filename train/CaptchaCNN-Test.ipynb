{
 "cells": [
  {
   "cell_type": "code",
   "execution_count": 1,
   "metadata": {
    "collapsed": true
   },
   "outputs": [],
   "source": [
    "import cv2\n",
    "import os\n",
    "import tensorflow as tf\n",
    "import glob\n",
    "import numpy as np"
   ]
  },
  {
   "cell_type": "code",
   "execution_count": 2,
   "metadata": {
    "collapsed": true
   },
   "outputs": [],
   "source": [
    "TRAIN_IMAGES_PATH = './datasets/images/train'\n",
    "TEST_IMAGES_PATH = './datasets/images/test'\n",
    "MODEL_OUTPUT_PATH = './datasets/output/'"
   ]
  },
  {
   "cell_type": "code",
   "execution_count": 3,
   "metadata": {
    "collapsed": true
   },
   "outputs": [],
   "source": [
    "def read_captcha_images(image_path):\n",
    "    if not os.path.exists(image_path):\n",
    "        raise ValueError('image path is not exist')\n",
    "        \n",
    "    images = []\n",
    "    labels = []\n",
    "    images_path = os.path.join(image_path, '*.jpg')\n",
    "    count = 0\n",
    "    for image_file in glob.glob(images_path):\n",
    "        count += 1\n",
    "        if count % 5000 == 0:\n",
    "            print('Load {} images.'.format(count))\n",
    "        image = cv2.imread(image_file)\n",
    "        \n",
    "        #image = image[:, :, (2, 1, 0)] # change channel\n",
    "        image = cv2.cvtColor(image, cv2.COLOR_BGR2RGB)\n",
    "        label = int(image_file.split('_')[-1].split('.')[0])\n",
    "        images.append(image)\n",
    "        labels.append(label)\n",
    "    images = np.array(images)\n",
    "    labels = np.array(labels)\n",
    "    return images, labels"
   ]
  },
  {
   "cell_type": "code",
   "execution_count": 4,
   "metadata": {
    "collapsed": true
   },
   "outputs": [],
   "source": [
    "def next_batch_set(images, labels, batch_size=128):\n",
    "    \"\"\"Generate a batch training data.\n",
    "    \n",
    "    Args:\n",
    "        images: A 4-D array representing the training images.\n",
    "        labels: A 1-D array representing the classes of images.\n",
    "        batch_size: An integer.\n",
    "        \n",
    "    Return:\n",
    "        batch_images: A batch of images.\n",
    "        batch_labels: A batch of labels.\n",
    "    \"\"\"\n",
    "    indices = np.random.choice(len(images), batch_size)\n",
    "    batch_images = images[indices]\n",
    "    batch_labels = labels[indices]\n",
    "    return batch_images, batch_labels"
   ]
  },
  {
   "cell_type": "code",
   "execution_count": 5,
   "metadata": {},
   "outputs": [
    {
     "name": "stdout",
     "output_type": "stream",
     "text": [
      "Load 5000 images.\n",
      "Load 10000 images.\n",
      "Load 15000 images.\n",
      "Load 20000 images.\n",
      "Load 25000 images.\n",
      "Load 30000 images.\n",
      "Load 35000 images.\n",
      "Load 40000 images.\n"
     ]
    }
   ],
   "source": [
    "#test_images, test_targets = read_captcha_images(FLAGS.test_images_path)\n",
    "train_images, train_targets = read_captcha_images(TRAIN_IMAGES_PATH)\n",
    "test_images, test_targets = next_batch_set(train_images, train_targets)"
   ]
  },
  {
   "cell_type": "code",
   "execution_count": 6,
   "metadata": {
    "collapsed": true
   },
   "outputs": [],
   "source": [
    "def load_model():\n",
    "    with tf.Session() as sess:\n",
    "        saver = tf.train.import_meta_graph('./model/captcha_cnn_model_data.meta')\n",
    "        saver.restore(sess, tf.train.latest_checkpoint(\"./model/\"))\n",
    "        graph = tf.get_default_graph()\n",
    "        inputs = graph.get_tensor_by_name(\"inputs:0\")\n",
    "        #drop_prob = graph.get_tensor_by_name('dropout11/Placeholder:0') \n",
    "        feed_dict ={inputs:test_images}\n",
    "\n",
    "        #Now, access the op that you want to run. \n",
    "        op_to_restore = graph.get_tensor_by_name(\"accuracy/predict:0\")\n",
    "\n",
    "        return sess.run(op_to_restore,feed_dict)"
   ]
  },
  {
   "cell_type": "code",
   "execution_count": 7,
   "metadata": {},
   "outputs": [
    {
     "name": "stdout",
     "output_type": "stream",
     "text": [
      "INFO:tensorflow:Restoring parameters from ./model/captcha_cnn_model_data\n"
     ]
    }
   ],
   "source": [
    "classes = load_model()"
   ]
  },
  {
   "cell_type": "code",
   "execution_count": 8,
   "metadata": {},
   "outputs": [
    {
     "name": "stdout",
     "output_type": "stream",
     "text": [
      "0.0625\n"
     ]
    }
   ],
   "source": [
    "print (np.mean(np.equal(classes, test_targets)))"
   ]
  },
  {
   "cell_type": "code",
   "execution_count": 9,
   "metadata": {},
   "outputs": [
    {
     "data": {
      "text/plain": [
       "array([5, 8, 2, 0, 4, 3, 0, 0, 5, 0, 0, 0, 0, 0, 3, 5, 0, 2, 9, 0, 0, 0,\n",
       "       5, 9, 8, 0, 3, 8, 5, 2, 6, 5, 0, 9, 0, 9, 0, 9, 5, 0, 8, 9, 8, 9,\n",
       "       8, 9, 9, 9, 5, 2, 8, 5, 5, 9, 6, 3, 0, 8, 9, 6, 9, 3, 3, 0, 2, 8,\n",
       "       9, 8, 3, 0, 2, 0, 9, 5, 3, 8, 8, 0, 5, 5, 0, 0, 9, 4, 9, 0, 0, 5,\n",
       "       0, 0, 9, 8, 0, 6, 9, 3, 4, 8, 0, 5, 6, 3, 4, 5, 0, 0, 0, 0, 9, 0,\n",
       "       8, 0, 6, 9, 0, 0, 0, 0, 5, 0, 8, 0, 8, 9, 0, 4, 0, 5])"
      ]
     },
     "execution_count": 9,
     "metadata": {},
     "output_type": "execute_result"
    }
   ],
   "source": [
    "classes"
   ]
  },
  {
   "cell_type": "code",
   "execution_count": 10,
   "metadata": {},
   "outputs": [
    {
     "data": {
      "text/plain": [
       "array([2, 9, 0, 6, 1, 3, 8, 2, 8, 9, 8, 7, 4, 3, 4, 8, 7, 3, 4, 3, 6, 1,\n",
       "       4, 3, 1, 1, 9, 2, 9, 0, 0, 4, 5, 1, 2, 8, 8, 6, 2, 3, 1, 3, 5, 5,\n",
       "       8, 1, 9, 5, 3, 3, 1, 0, 9, 9, 2, 6, 8, 7, 4, 9, 1, 5, 6, 1, 6, 1,\n",
       "       7, 9, 5, 9, 4, 5, 8, 7, 9, 1, 5, 1, 3, 6, 3, 3, 3, 0, 5, 5, 3, 2,\n",
       "       6, 1, 4, 2, 7, 9, 4, 5, 3, 9, 2, 4, 6, 9, 6, 5, 4, 3, 1, 3, 7, 5,\n",
       "       1, 8, 1, 9, 5, 0, 4, 1, 9, 5, 9, 3, 6, 1, 7, 7, 7, 7])"
      ]
     },
     "execution_count": 10,
     "metadata": {},
     "output_type": "execute_result"
    }
   ],
   "source": [
    "test_targets"
   ]
  },
  {
   "cell_type": "code",
   "execution_count": null,
   "metadata": {
    "collapsed": true
   },
   "outputs": [],
   "source": []
  }
 ],
 "metadata": {
  "kernelspec": {
   "display_name": "Python 3",
   "language": "python",
   "name": "python3"
  },
  "language_info": {
   "codemirror_mode": {
    "name": "ipython",
    "version": 3
   },
   "file_extension": ".py",
   "mimetype": "text/x-python",
   "name": "python",
   "nbconvert_exporter": "python",
   "pygments_lexer": "ipython3",
   "version": "3.6.6"
  }
 },
 "nbformat": 4,
 "nbformat_minor": 2
}
