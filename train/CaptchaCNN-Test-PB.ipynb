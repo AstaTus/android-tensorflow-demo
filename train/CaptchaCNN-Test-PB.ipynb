{
 "cells": [
  {
   "cell_type": "code",
   "execution_count": 1,
   "metadata": {
    "collapsed": true
   },
   "outputs": [],
   "source": [
    "import cv2\n",
    "import os\n",
    "import tensorflow as tf\n",
    "import glob\n",
    "import numpy as np"
   ]
  },
  {
   "cell_type": "code",
   "execution_count": 2,
   "metadata": {
    "collapsed": true
   },
   "outputs": [],
   "source": [
    "TRAIN_IMAGES_PATH = './datasets/images/train'\n",
    "TEST_IMAGES_PATH = './datasets/images/test'\n",
    "MODEL_OUTPUT_PATH = './datasets/output/'"
   ]
  },
  {
   "cell_type": "code",
   "execution_count": 3,
   "metadata": {
    "collapsed": true
   },
   "outputs": [],
   "source": [
    "def read_captcha_images(image_path):\n",
    "    if not os.path.exists(image_path):\n",
    "        raise ValueError('image path is not exist')\n",
    "        \n",
    "    images = []\n",
    "    labels = []\n",
    "    images_path = os.path.join(image_path, '*.jpg')\n",
    "    count = 0\n",
    "    for image_file in glob.glob(images_path):\n",
    "        count += 1\n",
    "        if count % 5000 == 0:\n",
    "            print('Load {} images.'.format(count))\n",
    "        image = cv2.imread(image_file)\n",
    "        \n",
    "        #image = image[:, :, (2, 1, 0)] # change channel\n",
    "        image = cv2.cvtColor(image, cv2.COLOR_BGR2RGB)\n",
    "        label = int(image_file.split('_')[-1].split('.')[0])\n",
    "        images.append(image)\n",
    "        labels.append(label)\n",
    "    images = np.array(images)\n",
    "    labels = np.array(labels)\n",
    "    return images, labels"
   ]
  },
  {
   "cell_type": "code",
   "execution_count": 4,
   "metadata": {
    "collapsed": true
   },
   "outputs": [],
   "source": [
    "def next_batch_set(images, labels, batch_size=128):\n",
    "    \"\"\"Generate a batch training data.\n",
    "    \n",
    "    Args:\n",
    "        images: A 4-D array representing the training images.\n",
    "        labels: A 1-D array representing the classes of images.\n",
    "        batch_size: An integer.\n",
    "        \n",
    "    Return:\n",
    "        batch_images: A batch of images.\n",
    "        batch_labels: A batch of labels.\n",
    "    \"\"\"\n",
    "    indices = np.random.choice(len(images), batch_size)\n",
    "    batch_images = images[indices]\n",
    "    batch_labels = labels[indices]\n",
    "    return batch_images, batch_labels"
   ]
  },
  {
   "cell_type": "code",
   "execution_count": 5,
   "metadata": {},
   "outputs": [
    {
     "name": "stdout",
     "output_type": "stream",
     "text": [
      "Load 5000 images.\n",
      "Load 10000 images.\n",
      "Load 15000 images.\n",
      "Load 20000 images.\n",
      "Load 25000 images.\n",
      "Load 30000 images.\n",
      "Load 35000 images.\n",
      "Load 40000 images.\n"
     ]
    }
   ],
   "source": [
    "#test_images, test_targets = read_captcha_images(FLAGS.test_images_path)\n",
    "train_images, train_targets = read_captcha_images(TRAIN_IMAGES_PATH)\n",
    "test_images, test_targets = next_batch_set(train_images, train_targets)"
   ]
  },
  {
   "cell_type": "code",
   "execution_count": 6,
   "metadata": {
    "collapsed": true
   },
   "outputs": [],
   "source": [
    "newInput_X = tf.placeholder(tf.float32, shape=[None, 28, 28, 3])\n",
    "newInput_dropKeep = tf.placeholder(tf.float32)"
   ]
  },
  {
   "cell_type": "code",
   "execution_count": 7,
   "metadata": {
    "collapsed": true
   },
   "outputs": [],
   "source": [
    "def load_graph(frozen_graph_filename):  \n",
    "    # We parse the graph_def file  \n",
    "    with tf.gfile.GFile(frozen_graph_filename, \"rb\") as f:  \n",
    "        graph_def = tf.GraphDef()  \n",
    "        graph_def.ParseFromString(f.read())  \n",
    "  \n",
    "    # We load the graph_def in the default graph  \n",
    "    with tf.Graph().as_default() as graph:\n",
    "        tf.import_graph_def(  \n",
    "            graph_def,\n",
    "#             input_map={'inputs:0': newInput_X, 'dropout11/prob:0': newInput_dropKeep},   \n",
    "#             return_elements=['accuracy/predict:0'], \n",
    "            op_dict=None,   \n",
    "            producer_op_list=None)\n",
    "        \n",
    "    return graph"
   ]
  },
  {
   "cell_type": "code",
   "execution_count": 8,
   "metadata": {},
   "outputs": [
    {
     "name": "stdout",
     "output_type": "stream",
     "text": [
      "WARNING:tensorflow:From <ipython-input-7-82408661ce9c>:14: calling import_graph_def (from tensorflow.python.framework.importer) with op_dict is deprecated and will be removed in a future version.\n",
      "Instructions for updating:\n",
      "Please file an issue at https://github.com/tensorflow/tensorflow/issues if you depend on this feature.\n"
     ]
    }
   ],
   "source": [
    "graph = load_graph('./model/captcha_cnn_model.pb')"
   ]
  },
  {
   "cell_type": "code",
   "execution_count": 9,
   "metadata": {
    "scrolled": true
   },
   "outputs": [
    {
     "name": "stdout",
     "output_type": "stream",
     "text": [
      "import/inputs (<tf.Tensor 'import/inputs:0' shape=(?, 28, 28, 3) dtype=float32>,)\n",
      "import/Sub/y (<tf.Tensor 'import/Sub/y:0' shape=() dtype=float32>,)\n",
      "import/Sub (<tf.Tensor 'import/Sub:0' shape=(?, 28, 28, 3) dtype=float32>,)\n",
      "import/div/y (<tf.Tensor 'import/div/y:0' shape=() dtype=float32>,)\n",
      "import/div (<tf.Tensor 'import/div:0' shape=(?, 28, 28, 3) dtype=float32>,)\n",
      "import/reshape1/Reshape/shape (<tf.Tensor 'import/reshape1/Reshape/shape:0' shape=(4,) dtype=int32>,)\n",
      "import/reshape1/Reshape (<tf.Tensor 'import/reshape1/Reshape:0' shape=(?, 28, 28, 3) dtype=float32>,)\n",
      "import/conv1/weight (<tf.Tensor 'import/conv1/weight:0' shape=(3, 3, 3, 32) dtype=float32>,)\n",
      "import/conv1/weight/read (<tf.Tensor 'import/conv1/weight/read:0' shape=(3, 3, 3, 32) dtype=float32>,)\n",
      "import/conv1/Variable (<tf.Tensor 'import/conv1/Variable:0' shape=(32,) dtype=float32>,)\n",
      "import/conv1/Variable/read (<tf.Tensor 'import/conv1/Variable/read:0' shape=(32,) dtype=float32>,)\n",
      "import/conv1/Conv2D (<tf.Tensor 'import/conv1/Conv2D:0' shape=(?, 28, 28, 32) dtype=float32>,)\n",
      "import/conv1/add (<tf.Tensor 'import/conv1/add:0' shape=(?, 28, 28, 32) dtype=float32>,)\n",
      "import/conv1/Relu (<tf.Tensor 'import/conv1/Relu:0' shape=(?, 28, 28, 32) dtype=float32>,)\n",
      "import/conv2/weight (<tf.Tensor 'import/conv2/weight:0' shape=(3, 3, 32, 32) dtype=float32>,)\n",
      "import/conv2/weight/read (<tf.Tensor 'import/conv2/weight/read:0' shape=(3, 3, 32, 32) dtype=float32>,)\n",
      "import/conv2/Variable (<tf.Tensor 'import/conv2/Variable:0' shape=(32,) dtype=float32>,)\n",
      "import/conv2/Variable/read (<tf.Tensor 'import/conv2/Variable/read:0' shape=(32,) dtype=float32>,)\n",
      "import/conv2/Conv2D (<tf.Tensor 'import/conv2/Conv2D:0' shape=(?, 28, 28, 32) dtype=float32>,)\n",
      "import/conv2/add (<tf.Tensor 'import/conv2/add:0' shape=(?, 28, 28, 32) dtype=float32>,)\n",
      "import/conv2/Relu (<tf.Tensor 'import/conv2/Relu:0' shape=(?, 28, 28, 32) dtype=float32>,)\n",
      "import/pool3/MaxPool (<tf.Tensor 'import/pool3/MaxPool:0' shape=(?, 14, 14, 32) dtype=float32>,)\n",
      "import/conv4/weight (<tf.Tensor 'import/conv4/weight:0' shape=(3, 3, 32, 64) dtype=float32>,)\n",
      "import/conv4/weight/read (<tf.Tensor 'import/conv4/weight/read:0' shape=(3, 3, 32, 64) dtype=float32>,)\n",
      "import/conv4/Variable (<tf.Tensor 'import/conv4/Variable:0' shape=(64,) dtype=float32>,)\n",
      "import/conv4/Variable/read (<tf.Tensor 'import/conv4/Variable/read:0' shape=(64,) dtype=float32>,)\n",
      "import/conv4/Conv2D (<tf.Tensor 'import/conv4/Conv2D:0' shape=(?, 14, 14, 64) dtype=float32>,)\n",
      "import/conv4/add (<tf.Tensor 'import/conv4/add:0' shape=(?, 14, 14, 64) dtype=float32>,)\n",
      "import/conv4/Relu (<tf.Tensor 'import/conv4/Relu:0' shape=(?, 14, 14, 64) dtype=float32>,)\n",
      "import/conv5/weight (<tf.Tensor 'import/conv5/weight:0' shape=(3, 3, 64, 64) dtype=float32>,)\n",
      "import/conv5/weight/read (<tf.Tensor 'import/conv5/weight/read:0' shape=(3, 3, 64, 64) dtype=float32>,)\n",
      "import/conv5/Variable (<tf.Tensor 'import/conv5/Variable:0' shape=(64,) dtype=float32>,)\n",
      "import/conv5/Variable/read (<tf.Tensor 'import/conv5/Variable/read:0' shape=(64,) dtype=float32>,)\n",
      "import/conv5/Conv2D (<tf.Tensor 'import/conv5/Conv2D:0' shape=(?, 14, 14, 64) dtype=float32>,)\n",
      "import/conv5/add (<tf.Tensor 'import/conv5/add:0' shape=(?, 14, 14, 64) dtype=float32>,)\n",
      "import/conv5/Relu (<tf.Tensor 'import/conv5/Relu:0' shape=(?, 14, 14, 64) dtype=float32>,)\n",
      "import/pool6/MaxPool (<tf.Tensor 'import/pool6/MaxPool:0' shape=(?, 7, 7, 64) dtype=float32>,)\n",
      "import/conv7/weight (<tf.Tensor 'import/conv7/weight:0' shape=(3, 3, 64, 128) dtype=float32>,)\n",
      "import/conv7/weight/read (<tf.Tensor 'import/conv7/weight/read:0' shape=(3, 3, 64, 128) dtype=float32>,)\n",
      "import/conv7/Variable (<tf.Tensor 'import/conv7/Variable:0' shape=(128,) dtype=float32>,)\n",
      "import/conv7/Variable/read (<tf.Tensor 'import/conv7/Variable/read:0' shape=(128,) dtype=float32>,)\n",
      "import/conv7/Conv2D (<tf.Tensor 'import/conv7/Conv2D:0' shape=(?, 7, 7, 128) dtype=float32>,)\n",
      "import/conv7/add (<tf.Tensor 'import/conv7/add:0' shape=(?, 7, 7, 128) dtype=float32>,)\n",
      "import/conv7/Relu (<tf.Tensor 'import/conv7/Relu:0' shape=(?, 7, 7, 128) dtype=float32>,)\n",
      "import/conv8/weight (<tf.Tensor 'import/conv8/weight:0' shape=(3, 3, 128, 128) dtype=float32>,)\n",
      "import/conv8/weight/read (<tf.Tensor 'import/conv8/weight/read:0' shape=(3, 3, 128, 128) dtype=float32>,)\n",
      "import/conv8/Variable (<tf.Tensor 'import/conv8/Variable:0' shape=(128,) dtype=float32>,)\n",
      "import/conv8/Variable/read (<tf.Tensor 'import/conv8/Variable/read:0' shape=(128,) dtype=float32>,)\n",
      "import/conv8/Conv2D (<tf.Tensor 'import/conv8/Conv2D:0' shape=(?, 7, 7, 128) dtype=float32>,)\n",
      "import/conv8/add (<tf.Tensor 'import/conv8/add:0' shape=(?, 7, 7, 128) dtype=float32>,)\n",
      "import/conv8/Relu (<tf.Tensor 'import/conv8/Relu:0' shape=(?, 7, 7, 128) dtype=float32>,)\n",
      "import/reshape9/Reshape/shape (<tf.Tensor 'import/reshape9/Reshape/shape:0' shape=(2,) dtype=int32>,)\n",
      "import/reshape9/Reshape (<tf.Tensor 'import/reshape9/Reshape:0' shape=(?, 6272) dtype=float32>,)\n",
      "import/fc10/weight (<tf.Tensor 'import/fc10/weight:0' shape=(6272, 1024) dtype=float32>,)\n",
      "import/fc10/weight/read (<tf.Tensor 'import/fc10/weight/read:0' shape=(6272, 1024) dtype=float32>,)\n",
      "import/fc10/Variable (<tf.Tensor 'import/fc10/Variable:0' shape=(1024,) dtype=float32>,)\n",
      "import/fc10/Variable/read (<tf.Tensor 'import/fc10/Variable/read:0' shape=(1024,) dtype=float32>,)\n",
      "import/fc10/MatMul (<tf.Tensor 'import/fc10/MatMul:0' shape=(?, 1024) dtype=float32>,)\n",
      "import/fc10/add (<tf.Tensor 'import/fc10/add:0' shape=(?, 1024) dtype=float32>,)\n",
      "import/fc10/Relu (<tf.Tensor 'import/fc10/Relu:0' shape=(?, 1024) dtype=float32>,)\n",
      "import/fc12/weight (<tf.Tensor 'import/fc12/weight:0' shape=(1024, 10) dtype=float32>,)\n",
      "import/fc12/weight/read (<tf.Tensor 'import/fc12/weight/read:0' shape=(1024, 10) dtype=float32>,)\n",
      "import/fc12/Variable (<tf.Tensor 'import/fc12/Variable:0' shape=(10,) dtype=float32>,)\n",
      "import/fc12/Variable/read (<tf.Tensor 'import/fc12/Variable/read:0' shape=(10,) dtype=float32>,)\n",
      "import/fc12/MatMul (<tf.Tensor 'import/fc12/MatMul:0' shape=(?, 10) dtype=float32>,)\n",
      "import/fc12/add (<tf.Tensor 'import/fc12/add:0' shape=(?, 10) dtype=float32>,)\n",
      "import/accuracy/Softmax (<tf.Tensor 'import/accuracy/Softmax:0' shape=(?, 10) dtype=float32>,)\n",
      "import/accuracy/ArgMax/dimension (<tf.Tensor 'import/accuracy/ArgMax/dimension:0' shape=() dtype=int32>,)\n",
      "import/accuracy/ArgMax (<tf.Tensor 'import/accuracy/ArgMax:0' shape=(?,) dtype=int64>,)\n",
      "import/accuracy/predict (<tf.Tensor 'import/accuracy/predict:0' shape=(?,) dtype=int32>,)\n"
     ]
    }
   ],
   "source": [
    "for op in graph.get_operations():  \n",
    "    print(op.name,op.values())"
   ]
  },
  {
   "cell_type": "code",
   "execution_count": 10,
   "metadata": {},
   "outputs": [
    {
     "name": "stdout",
     "output_type": "stream",
     "text": [
      "[5 5 9 6 9 6 0 8 5 0 5 5 6 9 6 0 5 9 9 6 8 9 0 8 3 0 5 9 8 9 8 0 0 6 8 0 0\n",
      " 9 6 9 0 6 8 5 0 8 0 6 8 9 9 0 0 8 9 9 6 6 6 9 8 5 9 0 6 9 0 0 8 5 9 9 9 6\n",
      " 8 0 6 9 6 0 9 7 6 8 7 0 5 8 0 5 0 8 9 6 0 6 0 3 9 6 0 9 0 9 0 0 3 8 8 9 9\n",
      " 5 0 0 9 8 0 9 5 9 0 0 5 6 6 0 6 8]\n"
     ]
    }
   ],
   "source": [
    "x = graph.get_tensor_by_name('import/inputs:0')\n",
    "y = graph.get_tensor_by_name('import/accuracy/predict:0')  \n",
    "          \n",
    "with tf.Session(graph=graph) as sess:  \n",
    "    sess.run(tf.global_variables_initializer())\n",
    "    classes = sess.run(y, feed_dict={x: test_images})\n",
    "    print(classes)"
   ]
  },
  {
   "cell_type": "code",
   "execution_count": 11,
   "metadata": {},
   "outputs": [
    {
     "name": "stdout",
     "output_type": "stream",
     "text": [
      "0.1015625\n"
     ]
    }
   ],
   "source": [
    "print (np.mean(np.equal(classes, test_targets)))"
   ]
  },
  {
   "cell_type": "code",
   "execution_count": null,
   "metadata": {
    "collapsed": true
   },
   "outputs": [],
   "source": []
  }
 ],
 "metadata": {
  "kernelspec": {
   "display_name": "Python 3",
   "language": "python",
   "name": "python3"
  },
  "language_info": {
   "codemirror_mode": {
    "name": "ipython",
    "version": 3
   },
   "file_extension": ".py",
   "mimetype": "text/x-python",
   "name": "python",
   "nbconvert_exporter": "python",
   "pygments_lexer": "ipython3",
   "version": "3.6.6"
  }
 },
 "nbformat": 4,
 "nbformat_minor": 2
}
